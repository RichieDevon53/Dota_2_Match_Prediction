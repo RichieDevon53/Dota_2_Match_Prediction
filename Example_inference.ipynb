{
 "cells": [
  {
   "cell_type": "markdown",
   "metadata": {},
   "source": [
    "# **Inference**\n",
    "\n",
    "Nama : Richie Devon Sumantri\n",
    "\n",
    "Batch : HCK-018\n",
    "\n",
    "Dokumen ini berfungsi untuk melakukan uji coba prediksi data menggunakan data mentah dan model prediksi yang telah dibuat.\n",
    "\n",
    "---"
   ]
  },
  {
   "cell_type": "markdown",
   "metadata": {},
   "source": [
    "### **Import Library**"
   ]
  },
  {
   "cell_type": "code",
   "execution_count": 2,
   "metadata": {},
   "outputs": [],
   "source": [
    "# Memuat libraries\n",
    "import pandas as pd\n",
    "import numpy as np\n",
    "import pickle\n",
    "import json\n",
    "from IPython.display import display, HTML"
   ]
  },
  {
   "cell_type": "markdown",
   "metadata": {},
   "source": [
    "### **Load Model dan Preprocessing Pipeline**\n",
    "\n",
    "Terdiri dari proses memuat model dari dokumen pickle yang terdiri dari dokumen _modelling_ dan _pipeline preprocessing_."
   ]
  },
  {
   "cell_type": "code",
   "execution_count": 3,
   "metadata": {},
   "outputs": [],
   "source": [
    "# Proses memuat model\n",
    "loaded_model = pickle.load(open('model.pkl', 'rb'))\n",
    "\n",
    "# Proses memuat encoding\n",
    "loaded_preprocessor = pickle.load(open('preprocessor.pkl', 'rb'))"
   ]
  },
  {
   "cell_type": "markdown",
   "metadata": {},
   "source": [
    "### **Pembuatan Dummy Data**\n",
    "\n",
    "Pada tahap ini akan dilakukan pembuatan data yang akan dicoba prediksi menggunakan model yang telah dibuat."
   ]
  },
  {
   "cell_type": "code",
   "execution_count": 4,
   "metadata": {},
   "outputs": [
    {
     "data": {
      "text/html": [
       "<center><b><h3>Data Dummy</h3></b></center>"
      ],
      "text/plain": [
       "<IPython.core.display.HTML object>"
      ]
     },
     "metadata": {},
     "output_type": "display_data"
    },
    {
     "data": {
      "text/html": [
       "<div>\n",
       "<style scoped>\n",
       "    .dataframe tbody tr th:only-of-type {\n",
       "        vertical-align: middle;\n",
       "    }\n",
       "\n",
       "    .dataframe tbody tr th {\n",
       "        vertical-align: top;\n",
       "    }\n",
       "\n",
       "    .dataframe thead th {\n",
       "        text-align: right;\n",
       "    }\n",
       "</style>\n",
       "<table border=\"1\" class=\"dataframe\">\n",
       "  <thead>\n",
       "    <tr style=\"text-align: right;\">\n",
       "      <th></th>\n",
       "      <th>MATCH_ID</th>\n",
       "      <th>MAP</th>\n",
       "      <th>TOURNAMENT</th>\n",
       "      <th>TEAM</th>\n",
       "      <th>SIDE</th>\n",
       "      <th>SCORE</th>\n",
       "      <th>DURATION</th>\n",
       "      <th>HERO_1</th>\n",
       "      <th>HERO_2</th>\n",
       "      <th>HERO_3</th>\n",
       "      <th>HERO_4</th>\n",
       "      <th>HERO_5</th>\n",
       "    </tr>\n",
       "  </thead>\n",
       "  <tbody>\n",
       "    <tr>\n",
       "      <th>0</th>\n",
       "      <td>739</td>\n",
       "      <td>1</td>\n",
       "      <td>The International 15</td>\n",
       "      <td>OG</td>\n",
       "      <td>radiant</td>\n",
       "      <td>24</td>\n",
       "      <td>36:20</td>\n",
       "      <td>Lycan</td>\n",
       "      <td>Doom</td>\n",
       "      <td>Lina</td>\n",
       "      <td>Tiny</td>\n",
       "      <td>Jakiro</td>\n",
       "    </tr>\n",
       "    <tr>\n",
       "      <th>1</th>\n",
       "      <td>831</td>\n",
       "      <td>1</td>\n",
       "      <td>The International 11</td>\n",
       "      <td>Team Spirit</td>\n",
       "      <td>radiant</td>\n",
       "      <td>20</td>\n",
       "      <td>32:04</td>\n",
       "      <td>Underlord</td>\n",
       "      <td>Chaos Knight</td>\n",
       "      <td>Phoenix</td>\n",
       "      <td>Rubick</td>\n",
       "      <td>Razor</td>\n",
       "    </tr>\n",
       "    <tr>\n",
       "      <th>2</th>\n",
       "      <td>56</td>\n",
       "      <td>2</td>\n",
       "      <td>The International 12</td>\n",
       "      <td>Gaimin Gladiators</td>\n",
       "      <td>radiant</td>\n",
       "      <td>26</td>\n",
       "      <td>42:10</td>\n",
       "      <td>Axe</td>\n",
       "      <td>Shadow Shaman</td>\n",
       "      <td>Morphling</td>\n",
       "      <td>Tiny</td>\n",
       "      <td>Windranger</td>\n",
       "    </tr>\n",
       "    <tr>\n",
       "      <th>3</th>\n",
       "      <td>14657</td>\n",
       "      <td>1</td>\n",
       "      <td>The International 12</td>\n",
       "      <td>PSG.LGD</td>\n",
       "      <td>dire</td>\n",
       "      <td>19</td>\n",
       "      <td>25:39</td>\n",
       "      <td>Puck</td>\n",
       "      <td>Sand King</td>\n",
       "      <td>Anti-Mage</td>\n",
       "      <td>Batrider</td>\n",
       "      <td>Hoodwink</td>\n",
       "    </tr>\n",
       "    <tr>\n",
       "      <th>4</th>\n",
       "      <td>554</td>\n",
       "      <td>2</td>\n",
       "      <td>The International 11</td>\n",
       "      <td>OG</td>\n",
       "      <td>radiant</td>\n",
       "      <td>24</td>\n",
       "      <td>36:20</td>\n",
       "      <td>Weaver</td>\n",
       "      <td>Snapfire</td>\n",
       "      <td>Dark Seer</td>\n",
       "      <td>Earthshaker</td>\n",
       "      <td>Clockwerk</td>\n",
       "    </tr>\n",
       "  </tbody>\n",
       "</table>\n",
       "</div>"
      ],
      "text/plain": [
       "   MATCH_ID  MAP            TOURNAMENT               TEAM     SIDE  SCORE  \\\n",
       "0       739    1  The International 15                 OG  radiant     24   \n",
       "1       831    1  The International 11        Team Spirit  radiant     20   \n",
       "2        56    2  The International 12  Gaimin Gladiators  radiant     26   \n",
       "3     14657    1  The International 12            PSG.LGD     dire     19   \n",
       "4       554    2  The International 11                 OG  radiant     24   \n",
       "\n",
       "  DURATION     HERO_1         HERO_2     HERO_3       HERO_4      HERO_5  \n",
       "0    36:20      Lycan           Doom       Lina         Tiny      Jakiro  \n",
       "1    32:04  Underlord   Chaos Knight    Phoenix       Rubick       Razor  \n",
       "2    42:10        Axe  Shadow Shaman  Morphling         Tiny  Windranger  \n",
       "3    25:39       Puck      Sand King  Anti-Mage     Batrider    Hoodwink  \n",
       "4    36:20     Weaver       Snapfire  Dark Seer  Earthshaker   Clockwerk  "
      ]
     },
     "execution_count": 4,
     "metadata": {},
     "output_type": "execute_result"
    }
   ],
   "source": [
    "# Pembuatan data dummy berisi tiga data\n",
    "dummy_data = [\n",
    "\t{\n",
    "\t\t'MATCH_ID' : 739,\n",
    "\t\t'MAP' : 1,\n",
    "\t\t'TOURNAMENT' : 'The International 15',\n",
    "\t\t'TEAM' : 'OG',\n",
    "\t\t'SIDE' : 'radiant',\n",
    "\t\t'SCORE' : 24,\n",
    "\t\t'DURATION' : '36:20',\n",
    "\t\t'HERO_1' : 'Lycan',\n",
    "\t\t'HERO_2' : 'Doom',\n",
    "\t\t'HERO_3' : 'Lina',\n",
    "\t\t'HERO_4' : 'Tiny',\n",
    "\t\t'HERO_5' : 'Jakiro',\n",
    "\t},\n",
    "\t{\n",
    "\t\t'MATCH_ID' : 831,\n",
    "\t\t'MAP' : 1,\n",
    "\t\t'TOURNAMENT' : 'The International 11',\n",
    "\t\t'TEAM' : 'Team Spirit',\n",
    "\t\t'SIDE' : 'radiant',\n",
    "\t\t'SCORE' : 20,\n",
    "\t\t'DURATION' : '32:04',\n",
    "\t\t'HERO_1' : 'Underlord',\n",
    "\t\t'HERO_2' : 'Chaos Knight',\n",
    "\t\t'HERO_3' : 'Phoenix',\n",
    "\t\t'HERO_4' : 'Rubick',\n",
    "\t\t'HERO_5' : 'Razor',\n",
    "\t},\n",
    "\t{\n",
    "\t\t'MATCH_ID' : 56,\n",
    "\t\t'MAP' : 2,\n",
    "\t\t'TOURNAMENT' : 'The International 12',\n",
    "\t\t'TEAM' : 'Gaimin Gladiators',\n",
    "\t\t'SIDE' : 'radiant',\n",
    "\t\t'SCORE' : 26,\n",
    "\t\t'DURATION' : '42:10',\n",
    "\t\t'HERO_1' : 'Axe',\n",
    "\t\t'HERO_2' : 'Shadow Shaman',\n",
    "\t\t'HERO_3' : 'Morphling',\n",
    "\t\t'HERO_4' : 'Tiny',\n",
    "\t\t'HERO_5' : 'Windranger',\n",
    "\t},\n",
    "\t{\n",
    "\t\t'MATCH_ID' : 14657,\n",
    "\t\t'MAP' : 1,\n",
    "\t\t'TOURNAMENT' : 'The International 12',\n",
    "\t\t'TEAM' : 'PSG.LGD',\n",
    "\t\t'SIDE' : 'dire',\n",
    "\t\t'SCORE' : 19,\n",
    "\t\t'DURATION' : '25:39',\n",
    "\t\t'HERO_1' : 'Puck',\n",
    "\t\t'HERO_2' : 'Sand King',\n",
    "\t\t'HERO_3' : 'Anti-Mage',\n",
    "\t\t'HERO_4' : 'Batrider',\n",
    "\t\t'HERO_5' : 'Hoodwink',\n",
    "\t},\n",
    "\t{\n",
    "\t\t'MATCH_ID' : 554,\n",
    "\t\t'MAP' : 2,\n",
    "\t\t'TOURNAMENT' : 'The International 11',\n",
    "\t\t'TEAM' : 'OG',\n",
    "\t\t'SIDE' : 'radiant',\n",
    "\t\t'SCORE' : 24,\n",
    "\t\t'DURATION' : '36:20',\n",
    "\t\t'HERO_1' : 'Weaver',\n",
    "\t\t'HERO_2' : 'Snapfire',\n",
    "\t\t'HERO_3' : 'Dark Seer',\n",
    "\t\t'HERO_4' : 'Earthshaker',\n",
    "\t\t'HERO_5' : 'Clockwerk',\n",
    "\t},\n",
    " \n",
    "]\n",
    "\n",
    "# Pengubahan data dummy menjadi dataframe\n",
    "dummy_df = pd.DataFrame(dummy_data)\n",
    "\n",
    "# Menampilkan judul dari dataframe\n",
    "display(HTML('<center><b><h3>Data Dummy</h3></b></center>'))\n",
    "\n",
    "# Menampilkan dataframe\n",
    "dummy_df"
   ]
  },
  {
   "cell_type": "markdown",
   "metadata": {},
   "source": [
    "### **Tranformasi Dummy Data**\n",
    "\n",
    "Pada tahap ini dilakukan transformasi pada setiap kolom menggunakan _pipeline preprocessing_."
   ]
  },
  {
   "cell_type": "code",
   "execution_count": 6,
   "metadata": {},
   "outputs": [],
   "source": [
    "# Proses transformasi data dummy\n",
    "dummy_final = loaded_preprocessor.transform(dummy_df)"
   ]
  },
  {
   "cell_type": "markdown",
   "metadata": {},
   "source": [
    "### **Predict Data Dummy**\n",
    "\n",
    "Pada tahap ini dilakukan penggabungan keseluruhan data dummy yang akan dilakukan prediksi menggunakan model yang telah dibuat menggunakan data _train_."
   ]
  },
  {
   "cell_type": "code",
   "execution_count": 9,
   "metadata": {},
   "outputs": [
    {
     "name": "stdout",
     "output_type": "stream",
     "text": [
      "Hasil prediksi hasil pertandingan dari data dummy pertama : Menang\n",
      "Hasil prediksi hasil pertandingan dari data dummy kedua : Kalah\n",
      "Hasil prediksi hasil pertandingan dari data dummy ketiga : Menang\n",
      "Hasil prediksi hasil pertandingan dari data dummy keempat : Kalah\n",
      "Hasil prediksi hasil pertandingan dari data dummy kelima : Kalah\n"
     ]
    }
   ],
   "source": [
    "# Menampilkan prediksi target dari data dummy\n",
    "target_1, target_2, target_3, target_4, target_5 = loaded_model.predict(dummy_final)\n",
    "\n",
    "# Generate hasil dari prediksi\n",
    "print(f'Hasil prediksi hasil pertandingan dari data dummy pertama : {\"Menang\" if target_1 == 1 else \"Kalah\"}')\n",
    "print(f'Hasil prediksi hasil pertandingan dari data dummy kedua : {\"Menang\" if target_2 == 1 else \"Kalah\"}')\n",
    "print(f'Hasil prediksi hasil pertandingan dari data dummy ketiga : {\"Menang\" if target_3 == 1 else \"Kalah\"}')\n",
    "print(f'Hasil prediksi hasil pertandingan dari data dummy keempat : {\"Menang\" if target_4 == 1 else \"Kalah\"}')\n",
    "print(f'Hasil prediksi hasil pertandingan dari data dummy kelima : {\"Menang\" if target_5 == 1 else \"Kalah\"}')"
   ]
  }
 ],
 "metadata": {
  "kernelspec": {
   "display_name": "enviroment1",
   "language": "python",
   "name": "python3"
  },
  "language_info": {
   "codemirror_mode": {
    "name": "ipython",
    "version": 3
   },
   "file_extension": ".py",
   "mimetype": "text/x-python",
   "name": "python",
   "nbconvert_exporter": "python",
   "pygments_lexer": "ipython3",
   "version": "3.12.3"
  }
 },
 "nbformat": 4,
 "nbformat_minor": 2
}
